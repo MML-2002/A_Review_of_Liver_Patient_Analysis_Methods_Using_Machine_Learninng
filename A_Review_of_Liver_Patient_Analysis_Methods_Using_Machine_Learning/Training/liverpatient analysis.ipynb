{
 "cells": [
  {
   "cell_type": "code",
   "execution_count": 1,
   "id": "b18cb3a9",
   "metadata": {},
   "outputs": [],
   "source": [
    "import pandas as pd\n",
    "import numpy as np\n",
    "import seaborn as sns\n",
    "import matplotlib.pyplot as plt\n",
    "from matplotlib import rcParams\n",
    "from scipy import stats"
   ]
  },
  {
   "cell_type": "code",
   "execution_count": 2,
   "id": "6a8290ab",
   "metadata": {},
   "outputs": [],
   "source": [
    "data=pd.read_csv('indian_liver_patient.csv')"
   ]
  },
  {
   "cell_type": "code",
   "execution_count": 3,
   "id": "321d7f3b",
   "metadata": {},
   "outputs": [
    {
     "data": {
      "text/html": [
       "<div>\n",
       "<style scoped>\n",
       "    .dataframe tbody tr th:only-of-type {\n",
       "        vertical-align: middle;\n",
       "    }\n",
       "\n",
       "    .dataframe tbody tr th {\n",
       "        vertical-align: top;\n",
       "    }\n",
       "\n",
       "    .dataframe thead th {\n",
       "        text-align: right;\n",
       "    }\n",
       "</style>\n",
       "<table border=\"1\" class=\"dataframe\">\n",
       "  <thead>\n",
       "    <tr style=\"text-align: right;\">\n",
       "      <th></th>\n",
       "      <th>Age</th>\n",
       "      <th>Gender</th>\n",
       "      <th>Total_Bilirubin</th>\n",
       "      <th>Direct_Bilirubin</th>\n",
       "      <th>Alkaline_Phosphotase</th>\n",
       "      <th>Alamine_Aminotransferase</th>\n",
       "      <th>Aspartate_Aminotransferase</th>\n",
       "      <th>Total_Protiens</th>\n",
       "      <th>Albumin</th>\n",
       "      <th>Albumin_and_Globulin_Ratio</th>\n",
       "      <th>Dataset</th>\n",
       "    </tr>\n",
       "  </thead>\n",
       "  <tbody>\n",
       "    <tr>\n",
       "      <th>0</th>\n",
       "      <td>65</td>\n",
       "      <td>Female</td>\n",
       "      <td>0.7</td>\n",
       "      <td>0.1</td>\n",
       "      <td>187</td>\n",
       "      <td>16</td>\n",
       "      <td>18</td>\n",
       "      <td>6.8</td>\n",
       "      <td>3.3</td>\n",
       "      <td>0.90</td>\n",
       "      <td>1</td>\n",
       "    </tr>\n",
       "    <tr>\n",
       "      <th>1</th>\n",
       "      <td>62</td>\n",
       "      <td>Male</td>\n",
       "      <td>10.9</td>\n",
       "      <td>5.5</td>\n",
       "      <td>699</td>\n",
       "      <td>64</td>\n",
       "      <td>100</td>\n",
       "      <td>7.5</td>\n",
       "      <td>3.2</td>\n",
       "      <td>0.74</td>\n",
       "      <td>1</td>\n",
       "    </tr>\n",
       "    <tr>\n",
       "      <th>2</th>\n",
       "      <td>62</td>\n",
       "      <td>Male</td>\n",
       "      <td>7.3</td>\n",
       "      <td>4.1</td>\n",
       "      <td>490</td>\n",
       "      <td>60</td>\n",
       "      <td>68</td>\n",
       "      <td>7.0</td>\n",
       "      <td>3.3</td>\n",
       "      <td>0.89</td>\n",
       "      <td>1</td>\n",
       "    </tr>\n",
       "    <tr>\n",
       "      <th>3</th>\n",
       "      <td>58</td>\n",
       "      <td>Male</td>\n",
       "      <td>1.0</td>\n",
       "      <td>0.4</td>\n",
       "      <td>182</td>\n",
       "      <td>14</td>\n",
       "      <td>20</td>\n",
       "      <td>6.8</td>\n",
       "      <td>3.4</td>\n",
       "      <td>1.00</td>\n",
       "      <td>1</td>\n",
       "    </tr>\n",
       "    <tr>\n",
       "      <th>4</th>\n",
       "      <td>72</td>\n",
       "      <td>Male</td>\n",
       "      <td>3.9</td>\n",
       "      <td>2.0</td>\n",
       "      <td>195</td>\n",
       "      <td>27</td>\n",
       "      <td>59</td>\n",
       "      <td>7.3</td>\n",
       "      <td>2.4</td>\n",
       "      <td>0.40</td>\n",
       "      <td>1</td>\n",
       "    </tr>\n",
       "  </tbody>\n",
       "</table>\n",
       "</div>"
      ],
      "text/plain": [
       "   Age  Gender  Total_Bilirubin  Direct_Bilirubin  Alkaline_Phosphotase  \\\n",
       "0   65  Female              0.7               0.1                   187   \n",
       "1   62    Male             10.9               5.5                   699   \n",
       "2   62    Male              7.3               4.1                   490   \n",
       "3   58    Male              1.0               0.4                   182   \n",
       "4   72    Male              3.9               2.0                   195   \n",
       "\n",
       "   Alamine_Aminotransferase  Aspartate_Aminotransferase  Total_Protiens  \\\n",
       "0                        16                          18             6.8   \n",
       "1                        64                         100             7.5   \n",
       "2                        60                          68             7.0   \n",
       "3                        14                          20             6.8   \n",
       "4                        27                          59             7.3   \n",
       "\n",
       "   Albumin  Albumin_and_Globulin_Ratio  Dataset  \n",
       "0      3.3                        0.90        1  \n",
       "1      3.2                        0.74        1  \n",
       "2      3.3                        0.89        1  \n",
       "3      3.4                        1.00        1  \n",
       "4      2.4                        0.40        1  "
      ]
     },
     "execution_count": 3,
     "metadata": {},
     "output_type": "execute_result"
    }
   ],
   "source": [
    "data.head()"
   ]
  },
  {
   "cell_type": "code",
   "execution_count": 4,
   "id": "74df3578",
   "metadata": {
    "scrolled": true
   },
   "outputs": [
    {
     "name": "stdout",
     "output_type": "stream",
     "text": [
      "<class 'pandas.core.frame.DataFrame'>\n",
      "RangeIndex: 583 entries, 0 to 582\n",
      "Data columns (total 11 columns):\n",
      " #   Column                      Non-Null Count  Dtype  \n",
      "---  ------                      --------------  -----  \n",
      " 0   Age                         583 non-null    int64  \n",
      " 1   Gender                      583 non-null    object \n",
      " 2   Total_Bilirubin             583 non-null    float64\n",
      " 3   Direct_Bilirubin            583 non-null    float64\n",
      " 4   Alkaline_Phosphotase        583 non-null    int64  \n",
      " 5   Alamine_Aminotransferase    583 non-null    int64  \n",
      " 6   Aspartate_Aminotransferase  583 non-null    int64  \n",
      " 7   Total_Protiens              583 non-null    float64\n",
      " 8   Albumin                     583 non-null    float64\n",
      " 9   Albumin_and_Globulin_Ratio  579 non-null    float64\n",
      " 10  Dataset                     583 non-null    int64  \n",
      "dtypes: float64(5), int64(5), object(1)\n",
      "memory usage: 50.2+ KB\n"
     ]
    }
   ],
   "source": [
    "data.info()"
   ]
  },
  {
   "cell_type": "code",
   "execution_count": 5,
   "id": "39e4e705",
   "metadata": {},
   "outputs": [
    {
     "data": {
      "text/plain": [
       "Age                           False\n",
       "Gender                        False\n",
       "Total_Bilirubin               False\n",
       "Direct_Bilirubin              False\n",
       "Alkaline_Phosphotase          False\n",
       "Alamine_Aminotransferase      False\n",
       "Aspartate_Aminotransferase    False\n",
       "Total_Protiens                False\n",
       "Albumin                       False\n",
       "Albumin_and_Globulin_Ratio     True\n",
       "Dataset                       False\n",
       "dtype: bool"
      ]
     },
     "execution_count": 5,
     "metadata": {},
     "output_type": "execute_result"
    }
   ],
   "source": [
    "data.isnull().any()"
   ]
  },
  {
   "cell_type": "code",
   "execution_count": 6,
   "id": "e539be20",
   "metadata": {},
   "outputs": [
    {
     "data": {
      "text/plain": [
       "Age                           0\n",
       "Gender                        0\n",
       "Total_Bilirubin               0\n",
       "Direct_Bilirubin              0\n",
       "Alkaline_Phosphotase          0\n",
       "Alamine_Aminotransferase      0\n",
       "Aspartate_Aminotransferase    0\n",
       "Total_Protiens                0\n",
       "Albumin                       0\n",
       "Albumin_and_Globulin_Ratio    4\n",
       "Dataset                       0\n",
       "dtype: int64"
      ]
     },
     "execution_count": 6,
     "metadata": {},
     "output_type": "execute_result"
    }
   ],
   "source": [
    "data.isnull().sum()"
   ]
  },
  {
   "cell_type": "code",
   "execution_count": 7,
   "id": "5844511b",
   "metadata": {},
   "outputs": [
    {
     "data": {
      "text/plain": [
       "Age                           0\n",
       "Gender                        0\n",
       "Total_Bilirubin               0\n",
       "Direct_Bilirubin              0\n",
       "Alkaline_Phosphotase          0\n",
       "Alamine_Aminotransferase      0\n",
       "Aspartate_Aminotransferase    0\n",
       "Total_Protiens                0\n",
       "Albumin                       0\n",
       "Albumin_and_Globulin_Ratio    0\n",
       "Dataset                       0\n",
       "dtype: int64"
      ]
     },
     "execution_count": 7,
     "metadata": {},
     "output_type": "execute_result"
    }
   ],
   "source": [
    "data['Albumin_and_Globulin_Ratio']=data.fillna(data['Albumin_and_Globulin_Ratio'].mode()[0])\n",
    "data.isnull().sum()"
   ]
  },
  {
   "cell_type": "code",
   "execution_count": 8,
   "id": "09dcb447",
   "metadata": {},
   "outputs": [],
   "source": [
    "from sklearn.preprocessing import LabelEncoder\n",
    "lc=LabelEncoder()\n",
    "data['Gender']=lc.fit_transform(data['Gender'])"
   ]
  },
  {
   "cell_type": "code",
   "execution_count": 9,
   "id": "ede28853",
   "metadata": {},
   "outputs": [
    {
     "data": {
      "text/html": [
       "<div>\n",
       "<style scoped>\n",
       "    .dataframe tbody tr th:only-of-type {\n",
       "        vertical-align: middle;\n",
       "    }\n",
       "\n",
       "    .dataframe tbody tr th {\n",
       "        vertical-align: top;\n",
       "    }\n",
       "\n",
       "    .dataframe thead th {\n",
       "        text-align: right;\n",
       "    }\n",
       "</style>\n",
       "<table border=\"1\" class=\"dataframe\">\n",
       "  <thead>\n",
       "    <tr style=\"text-align: right;\">\n",
       "      <th></th>\n",
       "      <th>Age</th>\n",
       "      <th>Gender</th>\n",
       "      <th>Total_Bilirubin</th>\n",
       "      <th>Direct_Bilirubin</th>\n",
       "      <th>Alkaline_Phosphotase</th>\n",
       "      <th>Alamine_Aminotransferase</th>\n",
       "      <th>Aspartate_Aminotransferase</th>\n",
       "      <th>Total_Protiens</th>\n",
       "      <th>Albumin</th>\n",
       "      <th>Dataset</th>\n",
       "    </tr>\n",
       "  </thead>\n",
       "  <tbody>\n",
       "    <tr>\n",
       "      <th>count</th>\n",
       "      <td>583.000000</td>\n",
       "      <td>583.000000</td>\n",
       "      <td>583.000000</td>\n",
       "      <td>583.000000</td>\n",
       "      <td>583.000000</td>\n",
       "      <td>583.000000</td>\n",
       "      <td>583.000000</td>\n",
       "      <td>583.000000</td>\n",
       "      <td>583.000000</td>\n",
       "      <td>583.000000</td>\n",
       "    </tr>\n",
       "    <tr>\n",
       "      <th>mean</th>\n",
       "      <td>44.746141</td>\n",
       "      <td>0.756432</td>\n",
       "      <td>3.298799</td>\n",
       "      <td>1.486106</td>\n",
       "      <td>290.576329</td>\n",
       "      <td>80.713551</td>\n",
       "      <td>109.910806</td>\n",
       "      <td>6.483190</td>\n",
       "      <td>3.141852</td>\n",
       "      <td>1.286449</td>\n",
       "    </tr>\n",
       "    <tr>\n",
       "      <th>std</th>\n",
       "      <td>16.189833</td>\n",
       "      <td>0.429603</td>\n",
       "      <td>6.209522</td>\n",
       "      <td>2.808498</td>\n",
       "      <td>242.937989</td>\n",
       "      <td>182.620356</td>\n",
       "      <td>288.918529</td>\n",
       "      <td>1.085451</td>\n",
       "      <td>0.795519</td>\n",
       "      <td>0.452490</td>\n",
       "    </tr>\n",
       "    <tr>\n",
       "      <th>min</th>\n",
       "      <td>4.000000</td>\n",
       "      <td>0.000000</td>\n",
       "      <td>0.400000</td>\n",
       "      <td>0.100000</td>\n",
       "      <td>63.000000</td>\n",
       "      <td>10.000000</td>\n",
       "      <td>10.000000</td>\n",
       "      <td>2.700000</td>\n",
       "      <td>0.900000</td>\n",
       "      <td>1.000000</td>\n",
       "    </tr>\n",
       "    <tr>\n",
       "      <th>25%</th>\n",
       "      <td>33.000000</td>\n",
       "      <td>1.000000</td>\n",
       "      <td>0.800000</td>\n",
       "      <td>0.200000</td>\n",
       "      <td>175.500000</td>\n",
       "      <td>23.000000</td>\n",
       "      <td>25.000000</td>\n",
       "      <td>5.800000</td>\n",
       "      <td>2.600000</td>\n",
       "      <td>1.000000</td>\n",
       "    </tr>\n",
       "    <tr>\n",
       "      <th>50%</th>\n",
       "      <td>45.000000</td>\n",
       "      <td>1.000000</td>\n",
       "      <td>1.000000</td>\n",
       "      <td>0.300000</td>\n",
       "      <td>208.000000</td>\n",
       "      <td>35.000000</td>\n",
       "      <td>42.000000</td>\n",
       "      <td>6.600000</td>\n",
       "      <td>3.100000</td>\n",
       "      <td>1.000000</td>\n",
       "    </tr>\n",
       "    <tr>\n",
       "      <th>75%</th>\n",
       "      <td>58.000000</td>\n",
       "      <td>1.000000</td>\n",
       "      <td>2.600000</td>\n",
       "      <td>1.300000</td>\n",
       "      <td>298.000000</td>\n",
       "      <td>60.500000</td>\n",
       "      <td>87.000000</td>\n",
       "      <td>7.200000</td>\n",
       "      <td>3.800000</td>\n",
       "      <td>2.000000</td>\n",
       "    </tr>\n",
       "    <tr>\n",
       "      <th>max</th>\n",
       "      <td>90.000000</td>\n",
       "      <td>1.000000</td>\n",
       "      <td>75.000000</td>\n",
       "      <td>19.700000</td>\n",
       "      <td>2110.000000</td>\n",
       "      <td>2000.000000</td>\n",
       "      <td>4929.000000</td>\n",
       "      <td>9.600000</td>\n",
       "      <td>5.500000</td>\n",
       "      <td>2.000000</td>\n",
       "    </tr>\n",
       "  </tbody>\n",
       "</table>\n",
       "</div>"
      ],
      "text/plain": [
       "              Age      Gender  Total_Bilirubin  Direct_Bilirubin  \\\n",
       "count  583.000000  583.000000       583.000000        583.000000   \n",
       "mean    44.746141    0.756432         3.298799          1.486106   \n",
       "std     16.189833    0.429603         6.209522          2.808498   \n",
       "min      4.000000    0.000000         0.400000          0.100000   \n",
       "25%     33.000000    1.000000         0.800000          0.200000   \n",
       "50%     45.000000    1.000000         1.000000          0.300000   \n",
       "75%     58.000000    1.000000         2.600000          1.300000   \n",
       "max     90.000000    1.000000        75.000000         19.700000   \n",
       "\n",
       "       Alkaline_Phosphotase  Alamine_Aminotransferase  \\\n",
       "count            583.000000                583.000000   \n",
       "mean             290.576329                 80.713551   \n",
       "std              242.937989                182.620356   \n",
       "min               63.000000                 10.000000   \n",
       "25%              175.500000                 23.000000   \n",
       "50%              208.000000                 35.000000   \n",
       "75%              298.000000                 60.500000   \n",
       "max             2110.000000               2000.000000   \n",
       "\n",
       "       Aspartate_Aminotransferase  Total_Protiens     Albumin     Dataset  \n",
       "count                  583.000000      583.000000  583.000000  583.000000  \n",
       "mean                   109.910806        6.483190    3.141852    1.286449  \n",
       "std                    288.918529        1.085451    0.795519    0.452490  \n",
       "min                     10.000000        2.700000    0.900000    1.000000  \n",
       "25%                     25.000000        5.800000    2.600000    1.000000  \n",
       "50%                     42.000000        6.600000    3.100000    1.000000  \n",
       "75%                     87.000000        7.200000    3.800000    2.000000  \n",
       "max                   4929.000000        9.600000    5.500000    2.000000  "
      ]
     },
     "execution_count": 9,
     "metadata": {},
     "output_type": "execute_result"
    }
   ],
   "source": [
    "data.describe()"
   ]
  },
  {
   "cell_type": "code",
   "execution_count": 10,
   "id": "aa05d9be",
   "metadata": {},
   "outputs": [
    {
     "name": "stderr",
     "output_type": "stream",
     "text": [
      "C:\\Users\\ELCOT\\anaconda3\\lib\\site-packages\\seaborn\\distributions.py:2557: FutureWarning: `distplot` is a deprecated function and will be removed in a future version. Please adapt your code to use either `displot` (a figure-level function with similar flexibility) or `histplot` (an axes-level function for histograms).\n",
      "  warnings.warn(msg, FutureWarning)\n"
     ]
    },
    {
     "data": {
      "image/png": "[encoded data removed]",
      "text/plain": [
       "<Figure size 432x288 with 1 Axes>"
      ]
     },
     "metadata": {
      "needs_background": "light"
     },
     "output_type": "display_data"
    }
   ],
   "source": [
    "sns.distplot(data['Age'])\n",
    "plt.title('Age Distribution Graph')\n",
    "plt.show()"
   ]
  },
  {
   "cell_type": "code",
   "execution_count": 11,
   "id": "19950790",
   "metadata": {},
   "outputs": [
    {
     "name": "stderr",
     "output_type": "stream",
     "text": [
      "C:\\Users\\ELCOT\\anaconda3\\lib\\site-packages\\seaborn\\_decorators.py:36: FutureWarning: Pass the following variable as a keyword arg: x. From version 0.12, the only valid positional argument will be `data`, and passing other arguments without an explicit keyword will result in an error or misinterpretation.\n",
      "  warnings.warn(\n"
     ]
    },
    {
     "data": {
      "text/plain": [
       "<AxesSubplot:xlabel='Dataset', ylabel='count'>"
      ]
     },
     "execution_count": 11,
     "metadata": {},
     "output_type": "execute_result"
    },
    {
     "data": {
      "image/png": "[encoded data removed]",
      "text/plain": [
       "<Figure size 432x288 with 1 Axes>"
      ]
     },
     "metadata": {
      "needs_background": "light"
     },
     "output_type": "display_data"
    }
   ],
   "source": [
    "sns.countplot(data['Dataset'], hue=data['Gender'])"
   ]
  },
  {
   "cell_type": "code",
   "execution_count": 12,
   "id": "c63b2c4c",
   "metadata": {},
   "outputs": [
    {
     "data": {
      "text/plain": [
       "<AxesSubplot:>"
      ]
     },
     "execution_count": 12,
     "metadata": {},
     "output_type": "execute_result"
    },
    {
     "data": {
      "image/png": "[encoded data removed]",
      "text/plain": [
       "<Figure size 720x504 with 2 Axes>"
      ]
     },
     "metadata": {
      "needs_background": "light"
     },
     "output_type": "display_data"
    }
   ],
   "source": [
    "plt.figure(figsize=(10,7))\n",
    "sns.heatmap(data.corr(),annot=True)"
   ]
  },
  {
   "cell_type": "code",
   "execution_count": 13,
   "id": "2d146038",
   "metadata": {},
   "outputs": [],
   "source": [
    "x=data.iloc[:,:-1]\n",
    "y=data.Dataset"
   ]
  },
  {
   "cell_type": "code",
   "execution_count": 14,
   "id": "8fb7b917",
   "metadata": {},
   "outputs": [],
   "source": [
    "from sklearn.preprocessing import scale\n",
    "x_scaled=pd.DataFrame(scale(x),columns=x.columns)"
   ]
  },
  {
   "cell_type": "code",
   "execution_count": 15,
   "id": "7a860560",
   "metadata": {},
   "outputs": [
    {
     "data": {
      "text/html": [
       "<div>\n",
       "<style scoped>\n",
       "    .dataframe tbody tr th:only-of-type {\n",
       "        vertical-align: middle;\n",
       "    }\n",
       "\n",
       "    .dataframe tbody tr th {\n",
       "        vertical-align: top;\n",
       "    }\n",
       "\n",
       "    .dataframe thead th {\n",
       "        text-align: right;\n",
       "    }\n",
       "</style>\n",
       "<table border=\"1\" class=\"dataframe\">\n",
       "  <thead>\n",
       "    <tr style=\"text-align: right;\">\n",
       "      <th></th>\n",
       "      <th>Age</th>\n",
       "      <th>Gender</th>\n",
       "      <th>Total_Bilirubin</th>\n",
       "      <th>Direct_Bilirubin</th>\n",
       "      <th>Alkaline_Phosphotase</th>\n",
       "      <th>Alamine_Aminotransferase</th>\n",
       "      <th>Aspartate_Aminotransferase</th>\n",
       "      <th>Total_Protiens</th>\n",
       "      <th>Albumin</th>\n",
       "      <th>Albumin_and_Globulin_Ratio</th>\n",
       "    </tr>\n",
       "  </thead>\n",
       "  <tbody>\n",
       "    <tr>\n",
       "      <th>0</th>\n",
       "      <td>1.252098</td>\n",
       "      <td>-1.762281</td>\n",
       "      <td>-0.418878</td>\n",
       "      <td>-0.493964</td>\n",
       "      <td>-0.426715</td>\n",
       "      <td>-0.354665</td>\n",
       "      <td>-0.318393</td>\n",
       "      <td>0.292120</td>\n",
       "      <td>0.198969</td>\n",
       "      <td>1.252098</td>\n",
       "    </tr>\n",
       "    <tr>\n",
       "      <th>1</th>\n",
       "      <td>1.066637</td>\n",
       "      <td>0.567446</td>\n",
       "      <td>1.225171</td>\n",
       "      <td>1.430423</td>\n",
       "      <td>1.682629</td>\n",
       "      <td>-0.091599</td>\n",
       "      <td>-0.034333</td>\n",
       "      <td>0.937566</td>\n",
       "      <td>0.073157</td>\n",
       "      <td>1.066637</td>\n",
       "    </tr>\n",
       "    <tr>\n",
       "      <th>2</th>\n",
       "      <td>1.066637</td>\n",
       "      <td>0.567446</td>\n",
       "      <td>0.644919</td>\n",
       "      <td>0.931508</td>\n",
       "      <td>0.821588</td>\n",
       "      <td>-0.113522</td>\n",
       "      <td>-0.145186</td>\n",
       "      <td>0.476533</td>\n",
       "      <td>0.198969</td>\n",
       "      <td>1.066637</td>\n",
       "    </tr>\n",
       "    <tr>\n",
       "      <th>3</th>\n",
       "      <td>0.819356</td>\n",
       "      <td>0.567446</td>\n",
       "      <td>-0.370523</td>\n",
       "      <td>-0.387054</td>\n",
       "      <td>-0.447314</td>\n",
       "      <td>-0.365626</td>\n",
       "      <td>-0.311465</td>\n",
       "      <td>0.292120</td>\n",
       "      <td>0.324781</td>\n",
       "      <td>0.819356</td>\n",
       "    </tr>\n",
       "    <tr>\n",
       "      <th>4</th>\n",
       "      <td>1.684839</td>\n",
       "      <td>0.567446</td>\n",
       "      <td>0.096902</td>\n",
       "      <td>0.183135</td>\n",
       "      <td>-0.393756</td>\n",
       "      <td>-0.294379</td>\n",
       "      <td>-0.176363</td>\n",
       "      <td>0.753153</td>\n",
       "      <td>-0.933340</td>\n",
       "      <td>1.684839</td>\n",
       "    </tr>\n",
       "  </tbody>\n",
       "</table>\n",
       "</div>"
      ],
      "text/plain": [
       "        Age    Gender  Total_Bilirubin  Direct_Bilirubin  \\\n",
       "0  1.252098 -1.762281        -0.418878         -0.493964   \n",
       "1  1.066637  0.567446         1.225171          1.430423   \n",
       "2  1.066637  0.567446         0.644919          0.931508   \n",
       "3  0.819356  0.567446        -0.370523         -0.387054   \n",
       "4  1.684839  0.567446         0.096902          0.183135   \n",
       "\n",
       "   Alkaline_Phosphotase  Alamine_Aminotransferase  Aspartate_Aminotransferase  \\\n",
       "0             -0.426715                 -0.354665                   -0.318393   \n",
       "1              1.682629                 -0.091599                   -0.034333   \n",
       "2              0.821588                 -0.113522                   -0.145186   \n",
       "3             -0.447314                 -0.365626                   -0.311465   \n",
       "4             -0.393756                 -0.294379                   -0.176363   \n",
       "\n",
       "   Total_Protiens   Albumin  Albumin_and_Globulin_Ratio  \n",
       "0        0.292120  0.198969                    1.252098  \n",
       "1        0.937566  0.073157                    1.066637  \n",
       "2        0.476533  0.198969                    1.066637  \n",
       "3        0.292120  0.324781                    0.819356  \n",
       "4        0.753153 -0.933340                    1.684839  "
      ]
     },
     "execution_count": 15,
     "metadata": {},
     "output_type": "execute_result"
    }
   ],
   "source": [
    "x_scaled.head()"
   ]
  },
  {
   "cell_type": "code",
   "execution_count": 16,
   "id": "306f6c49",
   "metadata": {},
   "outputs": [],
   "source": [
    "from sklearn.model_selection import train_test_split\n",
    "x_train,x_test,y_train,y_test=train_test_split(x_scaled,y,test_size=0.2,random_state=42)"
   ]
  },
  {
   "cell_type": "code",
   "execution_count": 17,
   "id": "c54ba73d",
   "metadata": {},
   "outputs": [
    {
     "name": "stdout",
     "output_type": "stream",
     "text": [
      "Requirement already satisfied: imblearn in c:\\users\\elcot\\appdata\\roaming\\python\\python38\\site-packages (0.0)\n",
      "Requirement already satisfied: imbalanced-learn in c:\\users\\elcot\\appdata\\roaming\\python\\python38\\site-packages (from imblearn) (0.10.1)\n",
      "Requirement already satisfied: scikit-learn>=1.0.2 in c:\\users\\elcot\\appdata\\roaming\\python\\python38\\site-packages (from imbalanced-learn->imblearn) (1.2.2)\n",
      "Requirement already satisfied: numpy>=1.17.3 in c:\\users\\elcot\\anaconda3\\lib\\site-packages (from imbalanced-learn->imblearn) (1.23.5)\n",
      "Requirement already satisfied: scipy>=1.3.2 in c:\\users\\elcot\\anaconda3\\lib\\site-packages (from imbalanced-learn->imblearn) (1.10.1)\n",
      "Requirement already satisfied: threadpoolctl>=2.0.0 in c:\\users\\elcot\\anaconda3\\lib\\site-packages (from imbalanced-learn->imblearn) (2.1.0)\n",
      "Requirement already satisfied: joblib>=1.1.1 in c:\\users\\elcot\\appdata\\roaming\\python\\python38\\site-packages (from imbalanced-learn->imblearn) (1.2.0)\n",
      "Note: you may need to restart the kernel to use updated packages.\n"
     ]
    }
   ],
   "source": [
    "pip install imblearn "
   ]
  },
  {
   "cell_type": "code",
   "execution_count": 18,
   "id": "b9576114",
   "metadata": {},
   "outputs": [],
   "source": [
    "from imblearn.over_sampling import SMOTE\n",
    "smote=SMOTE()"
   ]
  },
  {
   "cell_type": "code",
   "execution_count": 19,
   "id": "b88460a3",
   "metadata": {},
   "outputs": [
    {
     "data": {
      "text/plain": [
       "1    329\n",
       "2    137\n",
       "Name: Dataset, dtype: int64"
      ]
     },
     "execution_count": 19,
     "metadata": {},
     "output_type": "execute_result"
    }
   ],
   "source": [
    "y_train.value_counts()"
   ]
  },
  {
   "cell_type": "code",
   "execution_count": 20,
   "id": "2868815e",
   "metadata": {},
   "outputs": [],
   "source": [
    "x_train_smote,y_train_smote=smote.fit_resample(x_train,y_train)"
   ]
  },
  {
   "cell_type": "code",
   "execution_count": 21,
   "id": "76d56b4d",
   "metadata": {},
   "outputs": [
    {
     "data": {
      "text/plain": [
       "1    329\n",
       "2    329\n",
       "Name: Dataset, dtype: int64"
      ]
     },
     "execution_count": 21,
     "metadata": {},
     "output_type": "execute_result"
    }
   ],
   "source": [
    "y_train_smote.value_counts()"
   ]
  },
  {
   "cell_type": "code",
   "execution_count": 22,
   "id": "883736fa",
   "metadata": {},
   "outputs": [],
   "source": [
    "from sklearn.metrics import accuracy_score\n",
    "from sklearn.metrics import classification_report"
   ]
  },
  {
   "cell_type": "code",
   "execution_count": 23,
   "id": "03c77197",
   "metadata": {},
   "outputs": [
    {
     "name": "stdout",
     "output_type": "stream",
     "text": [
      "              precision    recall  f1-score   support\n",
      "\n",
      "           1       0.85      0.79      0.82        87\n",
      "           2       0.50      0.60      0.55        30\n",
      "\n",
      "    accuracy                           0.74       117\n",
      "   macro avg       0.68      0.70      0.68       117\n",
      "weighted avg       0.76      0.74      0.75       117\n",
      "\n"
     ]
    }
   ],
   "source": [
    "from sklearn.ensemble import RandomForestClassifier\n",
    "model1=RandomForestClassifier()\n",
    "model1.fit(x_train_smote,y_train_smote)\n",
    "y_predict=model1.predict(x_test)\n",
    "rfc1=accuracy_score(y_test,y_predict)\n",
    "rfc1\n",
    "pd.crosstab(y_test,y_predict)\n",
    "print(classification_report(y_test,y_predict))"
   ]
  },
  {
   "cell_type": "code",
   "execution_count": 24,
   "id": "163efd75",
   "metadata": {},
   "outputs": [
    {
     "name": "stdout",
     "output_type": "stream",
     "text": [
      "              precision    recall  f1-score   support\n",
      "\n",
      "           1       0.83      0.75      0.79        87\n",
      "           2       0.44      0.57      0.49        30\n",
      "\n",
      "    accuracy                           0.70       117\n",
      "   macro avg       0.63      0.66      0.64       117\n",
      "weighted avg       0.73      0.70      0.71       117\n",
      "\n"
     ]
    }
   ],
   "source": [
    "from sklearn.tree import DecisionTreeClassifier\n",
    "model4=DecisionTreeClassifier()\n",
    "model4.fit(x_train_smote,y_train_smote)\n",
    "y_predict=model4.predict(x_test)\n",
    "dtc1=accuracy_score(y_test,y_predict)\n",
    "dtc1\n",
    "pd.crosstab(y_test,y_predict)\n",
    "print(classification_report(y_test,y_predict))"
   ]
  },
  {
   "cell_type": "code",
   "execution_count": 25,
   "id": "5a07888d",
   "metadata": {},
   "outputs": [
    {
     "name": "stdout",
     "output_type": "stream",
     "text": [
      "              precision    recall  f1-score   support\n",
      "\n",
      "           1       0.86      0.55      0.67        87\n",
      "           2       0.36      0.73      0.48        30\n",
      "\n",
      "    accuracy                           0.60       117\n",
      "   macro avg       0.61      0.64      0.58       117\n",
      "weighted avg       0.73      0.60      0.62       117\n",
      "\n"
     ]
    }
   ],
   "source": [
    "from sklearn.neighbors import KNeighborsClassifier\n",
    "model2=KNeighborsClassifier()\n",
    "model2.fit(x_train_smote,y_train_smote)\n",
    "y_predict=model2.predict(x_test)\n",
    "knn1=(accuracy_score(y_test,y_predict))\n",
    "knn1\n",
    "pd.crosstab(y_test,y_predict)\n",
    "print(classification_report(y_test,y_predict))"
   ]
  },
  {
   "cell_type": "code",
   "execution_count": 26,
   "id": "3e8df08b",
   "metadata": {},
   "outputs": [
    {
     "name": "stdout",
     "output_type": "stream",
     "text": [
      "              precision    recall  f1-score   support\n",
      "\n",
      "           1       0.96      0.61      0.75        87\n",
      "           2       0.45      0.93      0.61        30\n",
      "\n",
      "    accuracy                           0.69       117\n",
      "   macro avg       0.71      0.77      0.68       117\n",
      "weighted avg       0.83      0.69      0.71       117\n",
      "\n"
     ]
    }
   ],
   "source": [
    "from sklearn.linear_model import LogisticRegression\n",
    "model5=LogisticRegression()\n",
    "model5.fit(x_train_smote,y_train_smote)\n",
    "y_predict=model5.predict(x_test)\n",
    "logi1=accuracy_score(y_test,y_predict)\n",
    "logi1\n",
    "pd.crosstab(y_test,y_predict)\n",
    "print(classification_report(y_test,y_predict))"
   ]
  },
  {
   "cell_type": "code",
   "execution_count": 27,
   "id": "bfe7cf9e",
   "metadata": {},
   "outputs": [
    {
     "name": "stdout",
     "output_type": "stream",
     "text": [
      "Requirement already satisfied: tensorflow in c:\\users\\elcot\\anaconda3\\lib\\site-packages (2.12.0)\n",
      "Requirement already satisfied: tensorflow-intel==2.12.0 in c:\\users\\elcot\\anaconda3\\lib\\site-packages (from tensorflow) (2.12.0)\n",
      "Requirement already satisfied: tensorflow-estimator<2.13,>=2.12.0 in c:\\users\\elcot\\anaconda3\\lib\\site-packages (from tensorflow-intel==2.12.0->tensorflow) (2.12.0)\n",
      "Requirement already satisfied: six>=1.12.0 in c:\\users\\elcot\\anaconda3\\lib\\site-packages (from tensorflow-intel==2.12.0->tensorflow) (1.15.0)\n",
      "Requirement already satisfied: flatbuffers>=2.0 in c:\\users\\elcot\\anaconda3\\lib\\site-packages (from tensorflow-intel==2.12.0->tensorflow) (23.3.3)\n",
      "Requirement already satisfied: termcolor>=1.1.0 in c:\\users\\elcot\\anaconda3\\lib\\site-packages (from tensorflow-intel==2.12.0->tensorflow) (2.2.0)\n",
      "Requirement already satisfied: keras<2.13,>=2.12.0 in c:\\users\\elcot\\anaconda3\\lib\\site-packages (from tensorflow-intel==2.12.0->tensorflow) (2.12.0)\n",
      "Requirement already satisfied: jax>=0.3.15 in c:\\users\\elcot\\anaconda3\\lib\\site-packages (from tensorflow-intel==2.12.0->tensorflow) (0.4.8)\n",
      "Requirement already satisfied: libclang>=13.0.0 in c:\\users\\elcot\\anaconda3\\lib\\site-packages (from tensorflow-intel==2.12.0->tensorflow) (16.0.0)\n",
      "Requirement already satisfied: typing-extensions>=3.6.6 in c:\\users\\elcot\\anaconda3\\lib\\site-packages (from tensorflow-intel==2.12.0->tensorflow) (3.7.4.3)\n",
      "Requirement already satisfied: wrapt<1.15,>=1.11.0 in c:\\users\\elcot\\anaconda3\\lib\\site-packages (from tensorflow-intel==2.12.0->tensorflow) (1.12.1)\n",
      "Requirement already satisfied: protobuf!=4.21.0,!=4.21.1,!=4.21.2,!=4.21.3,!=4.21.4,!=4.21.5,<5.0.0dev,>=3.20.3 in c:\\users\\elcot\\anaconda3\\lib\\site-packages (from tensorflow-intel==2.12.0->tensorflow) (4.22.1)\n",
      "Requirement already satisfied: opt-einsum>=2.3.2 in c:\\users\\elcot\\anaconda3\\lib\\site-packages (from tensorflow-intel==2.12.0->tensorflow) (3.3.0)\n",
      "Requirement already satisfied: absl-py>=1.0.0 in c:\\users\\elcot\\anaconda3\\lib\\site-packages (from tensorflow-intel==2.12.0->tensorflow) (1.4.0)\n",
      "Requirement already satisfied: google-pasta>=0.1.1 in c:\\users\\elcot\\anaconda3\\lib\\site-packages (from tensorflow-intel==2.12.0->tensorflow) (0.2.0)\n",
      "Requirement already satisfied: grpcio<2.0,>=1.24.3 in c:\\users\\elcot\\anaconda3\\lib\\site-packages (from tensorflow-intel==2.12.0->tensorflow) (1.53.0)\n",
      "Requirement already satisfied: gast<=0.4.0,>=0.2.1 in c:\\users\\elcot\\anaconda3\\lib\\site-packages (from tensorflow-intel==2.12.0->tensorflow) (0.4.0)\n",
      "Requirement already satisfied: packaging in c:\\users\\elcot\\anaconda3\\lib\\site-packages (from tensorflow-intel==2.12.0->tensorflow) (20.9)\n",
      "Requirement already satisfied: h5py>=2.9.0 in c:\\users\\elcot\\anaconda3\\lib\\site-packages (from tensorflow-intel==2.12.0->tensorflow) (2.10.0)\n",
      "Requirement already satisfied: numpy<1.24,>=1.22 in c:\\users\\elcot\\anaconda3\\lib\\site-packages (from tensorflow-intel==2.12.0->tensorflow) (1.23.5)\n",
      "Requirement already satisfied: tensorflow-io-gcs-filesystem>=0.23.1 in c:\\users\\elcot\\anaconda3\\lib\\site-packages (from tensorflow-intel==2.12.0->tensorflow) (0.31.0)\n",
      "Requirement already satisfied: astunparse>=1.6.0 in c:\\users\\elcot\\anaconda3\\lib\\site-packages (from tensorflow-intel==2.12.0->tensorflow) (1.6.3)\n",
      "Requirement already satisfied: setuptools in c:\\users\\elcot\\anaconda3\\lib\\site-packages (from tensorflow-intel==2.12.0->tensorflow) (52.0.0.post20210125)\n",
      "Requirement already satisfied: tensorboard<2.13,>=2.12 in c:\\users\\elcot\\anaconda3\\lib\\site-packages (from tensorflow-intel==2.12.0->tensorflow) (2.12.1)\n",
      "Requirement already satisfied: wheel<1.0,>=0.23.0 in c:\\users\\elcot\\anaconda3\\lib\\site-packages (from astunparse>=1.6.0->tensorflow-intel==2.12.0->tensorflow) (0.36.2)\n",
      "Requirement already satisfied: ml-dtypes>=0.0.3 in c:\\users\\elcot\\anaconda3\\lib\\site-packages (from jax>=0.3.15->tensorflow-intel==2.12.0->tensorflow) (0.0.4)\n",
      "Requirement already satisfied: scipy>=1.7 in c:\\users\\elcot\\anaconda3\\lib\\site-packages (from jax>=0.3.15->tensorflow-intel==2.12.0->tensorflow) (1.10.1)\n",
      "Requirement already satisfied: tensorboard-data-server<0.8.0,>=0.7.0 in c:\\users\\elcot\\anaconda3\\lib\\site-packages (from tensorboard<2.13,>=2.12->tensorflow-intel==2.12.0->tensorflow) (0.7.0)\n",
      "Requirement already satisfied: werkzeug>=1.0.1 in c:\\users\\elcot\\anaconda3\\lib\\site-packages (from tensorboard<2.13,>=2.12->tensorflow-intel==2.12.0->tensorflow) (1.0.1)\n",
      "Requirement already satisfied: google-auth<3,>=1.6.3 in c:\\users\\elcot\\anaconda3\\lib\\site-packages (from tensorboard<2.13,>=2.12->tensorflow-intel==2.12.0->tensorflow) (2.17.1)\n",
      "Requirement already satisfied: tensorboard-plugin-wit>=1.6.0 in c:\\users\\elcot\\anaconda3\\lib\\site-packages (from tensorboard<2.13,>=2.12->tensorflow-intel==2.12.0->tensorflow) (1.8.1)\n",
      "Requirement already satisfied: google-auth-oauthlib<1.1,>=0.5 in c:\\users\\elcot\\anaconda3\\lib\\site-packages (from tensorboard<2.13,>=2.12->tensorflow-intel==2.12.0->tensorflow) (1.0.0)\n",
      "Requirement already satisfied: requests<3,>=2.21.0 in c:\\users\\elcot\\anaconda3\\lib\\site-packages (from tensorboard<2.13,>=2.12->tensorflow-intel==2.12.0->tensorflow) (2.25.1)\n",
      "Requirement already satisfied: markdown>=2.6.8 in c:\\users\\elcot\\anaconda3\\lib\\site-packages (from tensorboard<2.13,>=2.12->tensorflow-intel==2.12.0->tensorflow) (3.4.3)\n",
      "Requirement already satisfied: rsa<5,>=3.1.4 in c:\\users\\elcot\\anaconda3\\lib\\site-packages (from google-auth<3,>=1.6.3->tensorboard<2.13,>=2.12->tensorflow-intel==2.12.0->tensorflow) (4.9)\n",
      "Requirement already satisfied: cachetools<6.0,>=2.0.0 in c:\\users\\elcot\\anaconda3\\lib\\site-packages (from google-auth<3,>=1.6.3->tensorboard<2.13,>=2.12->tensorflow-intel==2.12.0->tensorflow) (5.3.0)\n",
      "Requirement already satisfied: pyasn1-modules>=0.2.1 in c:\\users\\elcot\\anaconda3\\lib\\site-packages (from google-auth<3,>=1.6.3->tensorboard<2.13,>=2.12->tensorflow-intel==2.12.0->tensorflow) (0.2.8)\n",
      "Requirement already satisfied: requests-oauthlib>=0.7.0 in c:\\users\\elcot\\anaconda3\\lib\\site-packages (from google-auth-oauthlib<1.1,>=0.5->tensorboard<2.13,>=2.12->tensorflow-intel==2.12.0->tensorflow) (1.3.1)\n",
      "Requirement already satisfied: importlib-metadata>=4.4 in c:\\users\\elcot\\anaconda3\\lib\\site-packages (from markdown>=2.6.8->tensorboard<2.13,>=2.12->tensorflow-intel==2.12.0->tensorflow) (6.1.0)\n",
      "Requirement already satisfied: zipp>=0.5 in c:\\users\\elcot\\anaconda3\\lib\\site-packages (from importlib-metadata>=4.4->markdown>=2.6.8->tensorboard<2.13,>=2.12->tensorflow-intel==2.12.0->tensorflow) (3.4.1)\n",
      "Requirement already satisfied: pyasn1<0.5.0,>=0.4.6 in c:\\users\\elcot\\anaconda3\\lib\\site-packages (from pyasn1-modules>=0.2.1->google-auth<3,>=1.6.3->tensorboard<2.13,>=2.12->tensorflow-intel==2.12.0->tensorflow) (0.4.8)\n",
      "Requirement already satisfied: urllib3<1.27,>=1.21.1 in c:\\users\\elcot\\anaconda3\\lib\\site-packages (from requests<3,>=2.21.0->tensorboard<2.13,>=2.12->tensorflow-intel==2.12.0->tensorflow) (1.26.4)\n",
      "Requirement already satisfied: chardet<5,>=3.0.2 in c:\\users\\elcot\\anaconda3\\lib\\site-packages (from requests<3,>=2.21.0->tensorboard<2.13,>=2.12->tensorflow-intel==2.12.0->tensorflow) (4.0.0)\n",
      "Note: you may need to restart the kernel to use updated packages.\n",
      "Requirement already satisfied: certifi>=2017.4.17 in c:\\users\\elcot\\anaconda3\\lib\\site-packages (from requests<3,>=2.21.0->tensorboard<2.13,>=2.12->tensorflow-intel==2.12.0->tensorflow) (2020.12.5)\n",
      "Requirement already satisfied: idna<3,>=2.5 in c:\\users\\elcot\\anaconda3\\lib\\site-packages (from requests<3,>=2.21.0->tensorboard<2.13,>=2.12->tensorflow-intel==2.12.0->tensorflow) (2.10)\n",
      "Requirement already satisfied: oauthlib>=3.0.0 in c:\\users\\elcot\\anaconda3\\lib\\site-packages (from requests-oauthlib>=0.7.0->google-auth-oauthlib<1.1,>=0.5->tensorboard<2.13,>=2.12->tensorflow-intel==2.12.0->tensorflow) (3.2.2)\n",
      "Requirement already satisfied: pyparsing>=2.0.2 in c:\\users\\elcot\\anaconda3\\lib\\site-packages (from packaging->tensorflow-intel==2.12.0->tensorflow) (2.4.7)\n"
     ]
    }
   ],
   "source": [
    "pip install tensorflow"
   ]
  },
  {
   "cell_type": "code",
   "execution_count": 28,
   "id": "002ad578",
   "metadata": {},
   "outputs": [],
   "source": [
    "import tensorflow.keras\n",
    "from tensorflow.keras.models import Sequential\n",
    "from tensorflow.keras.layers import Dense"
   ]
  },
  {
   "cell_type": "code",
   "execution_count": 29,
   "id": "dbe53896",
   "metadata": {},
   "outputs": [],
   "source": [
    "classifier=Sequential()"
   ]
  },
  {
   "cell_type": "code",
   "execution_count": 30,
   "id": "630130bf",
   "metadata": {},
   "outputs": [],
   "source": [
    "classifier.add(Dense(units=100,activation='relu',input_dim=10))"
   ]
  },
  {
   "cell_type": "code",
   "execution_count": 31,
   "id": "00733585",
   "metadata": {},
   "outputs": [],
   "source": [
    "classifier.add(Dense(units=50,activation='relu'))"
   ]
  },
  {
   "cell_type": "code",
   "execution_count": 32,
   "id": "81ed4c3d",
   "metadata": {},
   "outputs": [],
   "source": [
    "classifier.add(Dense(units=1,activation='sigmoid'))"
   ]
  },
  {
   "cell_type": "code",
   "execution_count": 33,
   "id": "bf6e4391",
   "metadata": {},
   "outputs": [],
   "source": [
    "classifier.compile(optimizer='adam',loss='binary_crossentropy',metrics=['accuracy'])"
   ]
  },
  {
   "cell_type": "code",
   "execution_count": 34,
   "id": "0e3b18ec",
   "metadata": {},
   "outputs": [
    {
     "name": "stdout",
     "output_type": "stream",
     "text": [
      "Epoch 1/100\n",
      "4/4 [==============================] - 6s 334ms/step - loss: 0.5655 - accuracy: 0.5457 - val_loss: 0.3903 - val_accuracy: 0.7128\n",
      "Epoch 2/100\n",
      "4/4 [==============================] - 0s 49ms/step - loss: 0.3383 - accuracy: 0.7016 - val_loss: 0.1768 - val_accuracy: 0.7234\n",
      "Epoch 3/100\n",
      "4/4 [==============================] - 0s 67ms/step - loss: 0.1229 - accuracy: 0.7016 - val_loss: -0.0203 - val_accuracy: 0.7234\n",
      "Epoch 4/100\n",
      "4/4 [==============================] - 0s 120ms/step - loss: -0.0715 - accuracy: 0.7016 - val_loss: -0.2153 - val_accuracy: 0.7234\n",
      "Epoch 5/100\n",
      "4/4 [==============================] - 0s 50ms/step - loss: -0.2685 - accuracy: 0.7016 - val_loss: -0.4114 - val_accuracy: 0.7234\n",
      "Epoch 6/100\n",
      "4/4 [==============================] - 0s 75ms/step - loss: -0.4779 - accuracy: 0.7016 - val_loss: -0.6093 - val_accuracy: 0.7234\n",
      "Epoch 7/100\n",
      "4/4 [==============================] - 0s 62ms/step - loss: -0.6853 - accuracy: 0.7016 - val_loss: -0.8169 - val_accuracy: 0.7234\n",
      "Epoch 8/100\n",
      "4/4 [==============================] - 0s 49ms/step - loss: -0.8881 - accuracy: 0.7016 - val_loss: -1.0389 - val_accuracy: 0.7234\n",
      "Epoch 9/100\n",
      "4/4 [==============================] - 0s 90ms/step - loss: -1.1317 - accuracy: 0.7016 - val_loss: -1.2777 - val_accuracy: 0.7234\n",
      "Epoch 10/100\n",
      "4/4 [==============================] - 0s 56ms/step - loss: -1.3902 - accuracy: 0.7016 - val_loss: -1.5441 - val_accuracy: 0.7234\n",
      "Epoch 11/100\n",
      "4/4 [==============================] - 0s 48ms/step - loss: -1.6645 - accuracy: 0.7016 - val_loss: -1.8468 - val_accuracy: 0.7234\n",
      "Epoch 12/100\n",
      "4/4 [==============================] - 0s 52ms/step - loss: -1.9976 - accuracy: 0.7016 - val_loss: -2.1848 - val_accuracy: 0.7234\n",
      "Epoch 13/100\n",
      "4/4 [==============================] - 0s 83ms/step - loss: -2.3360 - accuracy: 0.7016 - val_loss: -2.5742 - val_accuracy: 0.7234\n",
      "Epoch 14/100\n",
      "4/4 [==============================] - 0s 73ms/step - loss: -2.7553 - accuracy: 0.7016 - val_loss: -3.0127 - val_accuracy: 0.7234\n",
      "Epoch 15/100\n",
      "4/4 [==============================] - 0s 53ms/step - loss: -3.2077 - accuracy: 0.7016 - val_loss: -3.5166 - val_accuracy: 0.7234\n",
      "Epoch 16/100\n",
      "4/4 [==============================] - 0s 88ms/step - loss: -3.7395 - accuracy: 0.7016 - val_loss: -4.0888 - val_accuracy: 0.7234\n",
      "Epoch 17/100\n",
      "4/4 [==============================] - 0s 50ms/step - loss: -4.3417 - accuracy: 0.7016 - val_loss: -4.7402 - val_accuracy: 0.7234\n",
      "Epoch 18/100\n",
      "4/4 [==============================] - 0s 46ms/step - loss: -5.0263 - accuracy: 0.7016 - val_loss: -5.4741 - val_accuracy: 0.7234\n",
      "Epoch 19/100\n",
      "4/4 [==============================] - 0s 85ms/step - loss: -5.7775 - accuracy: 0.7016 - val_loss: -6.3133 - val_accuracy: 0.7234\n",
      "Epoch 20/100\n",
      "4/4 [==============================] - 0s 49ms/step - loss: -6.6470 - accuracy: 0.7016 - val_loss: -7.2606 - val_accuracy: 0.7234\n",
      "Epoch 21/100\n",
      "4/4 [==============================] - 0s 48ms/step - loss: -7.6205 - accuracy: 0.7016 - val_loss: -8.3154 - val_accuracy: 0.7234\n",
      "Epoch 22/100\n",
      "4/4 [==============================] - 0s 71ms/step - loss: -8.6593 - accuracy: 0.7016 - val_loss: -9.5030 - val_accuracy: 0.7234\n",
      "Epoch 23/100\n",
      "4/4 [==============================] - 0s 69ms/step - loss: -9.8849 - accuracy: 0.7016 - val_loss: -10.7897 - val_accuracy: 0.7234\n",
      "Epoch 24/100\n",
      "4/4 [==============================] - 0s 66ms/step - loss: -11.2250 - accuracy: 0.7016 - val_loss: -12.2166 - val_accuracy: 0.7234\n",
      "Epoch 25/100\n",
      "4/4 [==============================] - 0s 74ms/step - loss: -12.7539 - accuracy: 0.7016 - val_loss: -13.7685 - val_accuracy: 0.7234\n",
      "Epoch 26/100\n",
      "4/4 [==============================] - 0s 51ms/step - loss: -14.2994 - accuracy: 0.7016 - val_loss: -15.5256 - val_accuracy: 0.7234\n",
      "Epoch 27/100\n",
      "4/4 [==============================] - 0s 70ms/step - loss: -16.1135 - accuracy: 0.7016 - val_loss: -17.4314 - val_accuracy: 0.7234\n",
      "Epoch 28/100\n",
      "4/4 [==============================] - 0s 46ms/step - loss: -18.0890 - accuracy: 0.7016 - val_loss: -19.5205 - val_accuracy: 0.7234\n",
      "Epoch 29/100\n",
      "4/4 [==============================] - 0s 115ms/step - loss: -20.2119 - accuracy: 0.7016 - val_loss: -21.8081 - val_accuracy: 0.7234\n",
      "Epoch 30/100\n",
      "4/4 [==============================] - 0s 88ms/step - loss: -22.5940 - accuracy: 0.7016 - val_loss: -24.2937 - val_accuracy: 0.7234\n",
      "Epoch 31/100\n",
      "4/4 [==============================] - 0s 86ms/step - loss: -25.0346 - accuracy: 0.7016 - val_loss: -27.0108 - val_accuracy: 0.7234\n",
      "Epoch 32/100\n",
      "4/4 [==============================] - 0s 47ms/step - loss: -27.7664 - accuracy: 0.7016 - val_loss: -29.9583 - val_accuracy: 0.7234\n",
      "Epoch 33/100\n",
      "4/4 [==============================] - 0s 52ms/step - loss: -30.6479 - accuracy: 0.7016 - val_loss: -33.1323 - val_accuracy: 0.7234\n",
      "Epoch 34/100\n",
      "4/4 [==============================] - 0s 134ms/step - loss: -33.9287 - accuracy: 0.7016 - val_loss: -36.5097 - val_accuracy: 0.7234\n",
      "Epoch 35/100\n",
      "4/4 [==============================] - 0s 51ms/step - loss: -37.2241 - accuracy: 0.7016 - val_loss: -40.1357 - val_accuracy: 0.7234\n",
      "Epoch 36/100\n",
      "4/4 [==============================] - 0s 62ms/step - loss: -41.0839 - accuracy: 0.7016 - val_loss: -43.9334 - val_accuracy: 0.7234\n",
      "Epoch 37/100\n",
      "4/4 [==============================] - 0s 67ms/step - loss: -45.0543 - accuracy: 0.7016 - val_loss: -48.0152 - val_accuracy: 0.7234\n",
      "Epoch 38/100\n",
      "4/4 [==============================] - 0s 46ms/step - loss: -48.7683 - accuracy: 0.7016 - val_loss: -52.5258 - val_accuracy: 0.7234\n",
      "Epoch 39/100\n",
      "4/4 [==============================] - 0s 73ms/step - loss: -53.4057 - accuracy: 0.7016 - val_loss: -57.2045 - val_accuracy: 0.7234\n",
      "Epoch 40/100\n",
      "4/4 [==============================] - 0s 41ms/step - loss: -58.1638 - accuracy: 0.7016 - val_loss: -62.1560 - val_accuracy: 0.7234\n",
      "Epoch 41/100\n",
      "4/4 [==============================] - 0s 48ms/step - loss: -63.1034 - accuracy: 0.7016 - val_loss: -67.4478 - val_accuracy: 0.7234\n",
      "Epoch 42/100\n",
      "4/4 [==============================] - 0s 56ms/step - loss: -68.3541 - accuracy: 0.7016 - val_loss: -73.0773 - val_accuracy: 0.7234\n",
      "Epoch 43/100\n",
      "4/4 [==============================] - 0s 48ms/step - loss: -73.9568 - accuracy: 0.7016 - val_loss: -79.0166 - val_accuracy: 0.7234\n",
      "Epoch 44/100\n",
      "4/4 [==============================] - 0s 45ms/step - loss: -79.8453 - accuracy: 0.7016 - val_loss: -85.3138 - val_accuracy: 0.7234\n",
      "Epoch 45/100\n",
      "4/4 [==============================] - 0s 63ms/step - loss: -86.2960 - accuracy: 0.7016 - val_loss: -91.9284 - val_accuracy: 0.7234\n",
      "Epoch 46/100\n",
      "4/4 [==============================] - 0s 42ms/step - loss: -92.7914 - accuracy: 0.7016 - val_loss: -98.9905 - val_accuracy: 0.7234\n",
      "Epoch 47/100\n",
      "4/4 [==============================] - 0s 45ms/step - loss: -99.8730 - accuracy: 0.7016 - val_loss: -106.3748 - val_accuracy: 0.7234\n",
      "Epoch 48/100\n",
      "4/4 [==============================] - 0s 60ms/step - loss: -107.1093 - accuracy: 0.7016 - val_loss: -114.2003 - val_accuracy: 0.7234\n",
      "Epoch 49/100\n",
      "4/4 [==============================] - 0s 43ms/step - loss: -114.5715 - accuracy: 0.7016 - val_loss: -122.5506 - val_accuracy: 0.7234\n",
      "Epoch 50/100\n",
      "4/4 [==============================] - 0s 56ms/step - loss: -123.3615 - accuracy: 0.7016 - val_loss: -131.0359 - val_accuracy: 0.7234\n",
      "Epoch 51/100\n",
      "4/4 [==============================] - 0s 144ms/step - loss: -131.2821 - accuracy: 0.7016 - val_loss: -140.1460 - val_accuracy: 0.7234\n",
      "Epoch 52/100\n",
      "4/4 [==============================] - 0s 47ms/step - loss: -140.3486 - accuracy: 0.7016 - val_loss: -149.6312 - val_accuracy: 0.7234\n",
      "Epoch 53/100\n",
      "4/4 [==============================] - 0s 63ms/step - loss: -149.6489 - accuracy: 0.7016 - val_loss: -159.5459 - val_accuracy: 0.7234\n",
      "Epoch 54/100\n",
      "4/4 [==============================] - 0s 79ms/step - loss: -159.2778 - accuracy: 0.7016 - val_loss: -169.8351 - val_accuracy: 0.7234\n",
      "Epoch 55/100\n",
      "4/4 [==============================] - 0s 54ms/step - loss: -169.6545 - accuracy: 0.7016 - val_loss: -180.6081 - val_accuracy: 0.7234\n",
      "Epoch 56/100\n",
      "4/4 [==============================] - 0s 90ms/step - loss: -180.2223 - accuracy: 0.7016 - val_loss: -191.8656 - val_accuracy: 0.7234\n",
      "Epoch 57/100\n",
      "4/4 [==============================] - 0s 44ms/step - loss: -191.3713 - accuracy: 0.7016 - val_loss: -203.6367 - val_accuracy: 0.7234\n"
     ]
    },
    {
     "name": "stdout",
     "output_type": "stream",
     "text": [
      "Epoch 58/100\n",
      "4/4 [==============================] - 0s 52ms/step - loss: -202.7739 - accuracy: 0.7016 - val_loss: -216.0812 - val_accuracy: 0.7234\n",
      "Epoch 59/100\n",
      "4/4 [==============================] - 0s 46ms/step - loss: -215.0437 - accuracy: 0.7016 - val_loss: -228.9136 - val_accuracy: 0.7234\n",
      "Epoch 60/100\n",
      "4/4 [==============================] - 0s 52ms/step - loss: -227.9308 - accuracy: 0.7016 - val_loss: -242.1610 - val_accuracy: 0.7234\n",
      "Epoch 61/100\n",
      "4/4 [==============================] - 0s 44ms/step - loss: -240.6215 - accuracy: 0.7016 - val_loss: -256.1966 - val_accuracy: 0.7234\n",
      "Epoch 62/100\n",
      "4/4 [==============================] - 0s 103ms/step - loss: -253.9845 - accuracy: 0.7016 - val_loss: -270.8265 - val_accuracy: 0.7234\n",
      "Epoch 63/100\n",
      "4/4 [==============================] - 0s 47ms/step - loss: -268.0732 - accuracy: 0.7016 - val_loss: -285.8731 - val_accuracy: 0.7234\n",
      "Epoch 64/100\n",
      "4/4 [==============================] - 0s 61ms/step - loss: -282.9185 - accuracy: 0.7016 - val_loss: -301.4349 - val_accuracy: 0.7234\n",
      "Epoch 65/100\n",
      "4/4 [==============================] - 0s 43ms/step - loss: -297.6292 - accuracy: 0.7016 - val_loss: -317.7406 - val_accuracy: 0.7234\n",
      "Epoch 66/100\n",
      "4/4 [==============================] - 0s 73ms/step - loss: -313.9862 - accuracy: 0.7016 - val_loss: -334.3187 - val_accuracy: 0.7234\n",
      "Epoch 67/100\n",
      "4/4 [==============================] - 0s 53ms/step - loss: -329.6292 - accuracy: 0.7016 - val_loss: -351.7724 - val_accuracy: 0.7234\n",
      "Epoch 68/100\n",
      "4/4 [==============================] - 0s 68ms/step - loss: -345.8389 - accuracy: 0.7016 - val_loss: -369.8564 - val_accuracy: 0.7234\n",
      "Epoch 69/100\n",
      "4/4 [==============================] - 0s 95ms/step - loss: -363.7589 - accuracy: 0.7016 - val_loss: -388.2170 - val_accuracy: 0.7234\n",
      "Epoch 70/100\n",
      "4/4 [==============================] - 0s 155ms/step - loss: -380.9582 - accuracy: 0.7016 - val_loss: -407.4124 - val_accuracy: 0.7234\n",
      "Epoch 71/100\n",
      "4/4 [==============================] - 0s 104ms/step - loss: -400.1327 - accuracy: 0.7016 - val_loss: -426.8769 - val_accuracy: 0.7234\n",
      "Epoch 72/100\n",
      "4/4 [==============================] - 0s 73ms/step - loss: -418.6512 - accuracy: 0.7016 - val_loss: -447.2484 - val_accuracy: 0.7234\n",
      "Epoch 73/100\n",
      "4/4 [==============================] - 0s 66ms/step - loss: -438.9074 - accuracy: 0.7016 - val_loss: -468.0069 - val_accuracy: 0.7234\n",
      "Epoch 74/100\n",
      "4/4 [==============================] - 0s 54ms/step - loss: -458.3193 - accuracy: 0.7016 - val_loss: -489.8540 - val_accuracy: 0.7234\n",
      "Epoch 75/100\n",
      "4/4 [==============================] - 0s 51ms/step - loss: -479.6398 - accuracy: 0.7016 - val_loss: -511.9724 - val_accuracy: 0.7234\n",
      "Epoch 76/100\n",
      "4/4 [==============================] - 0s 77ms/step - loss: -500.9482 - accuracy: 0.7016 - val_loss: -534.9586 - val_accuracy: 0.7234\n",
      "Epoch 77/100\n",
      "4/4 [==============================] - 0s 69ms/step - loss: -522.5272 - accuracy: 0.7016 - val_loss: -558.8508 - val_accuracy: 0.7234\n",
      "Epoch 78/100\n",
      "4/4 [==============================] - 0s 69ms/step - loss: -546.3978 - accuracy: 0.7016 - val_loss: -583.0019 - val_accuracy: 0.7234\n",
      "Epoch 79/100\n",
      "4/4 [==============================] - 0s 64ms/step - loss: -568.3657 - accuracy: 0.7016 - val_loss: -608.3398 - val_accuracy: 0.7234\n",
      "Epoch 80/100\n",
      "4/4 [==============================] - 0s 49ms/step - loss: -592.3696 - accuracy: 0.7016 - val_loss: -634.1958 - val_accuracy: 0.7234\n",
      "Epoch 81/100\n",
      "4/4 [==============================] - 0s 102ms/step - loss: -618.4470 - accuracy: 0.7016 - val_loss: -660.1244 - val_accuracy: 0.7234\n",
      "Epoch 82/100\n",
      "4/4 [==============================] - 0s 71ms/step - loss: -642.6526 - accuracy: 0.7016 - val_loss: -687.5740 - val_accuracy: 0.7234\n",
      "Epoch 83/100\n",
      "4/4 [==============================] - 0s 42ms/step - loss: -669.4276 - accuracy: 0.7016 - val_loss: -715.5656 - val_accuracy: 0.7234\n",
      "Epoch 84/100\n",
      "4/4 [==============================] - 0s 45ms/step - loss: -695.8402 - accuracy: 0.7016 - val_loss: -744.4105 - val_accuracy: 0.7234\n",
      "Epoch 85/100\n",
      "4/4 [==============================] - 0s 38ms/step - loss: -723.3737 - accuracy: 0.7016 - val_loss: -773.9108 - val_accuracy: 0.7234\n",
      "Epoch 86/100\n",
      "4/4 [==============================] - 0s 49ms/step - loss: -750.8172 - accuracy: 0.7016 - val_loss: -804.6856 - val_accuracy: 0.7234\n",
      "Epoch 87/100\n",
      "4/4 [==============================] - 0s 86ms/step - loss: -778.7719 - accuracy: 0.7016 - val_loss: -836.2716 - val_accuracy: 0.7234\n",
      "Epoch 88/100\n",
      "4/4 [==============================] - 0s 47ms/step - loss: -810.3706 - accuracy: 0.7016 - val_loss: -867.4317 - val_accuracy: 0.7234\n",
      "Epoch 89/100\n",
      "4/4 [==============================] - 0s 50ms/step - loss: -839.9839 - accuracy: 0.7016 - val_loss: -899.8889 - val_accuracy: 0.7234\n",
      "Epoch 90/100\n",
      "4/4 [==============================] - 0s 66ms/step - loss: -871.0511 - accuracy: 0.7016 - val_loss: -933.2650 - val_accuracy: 0.7234\n",
      "Epoch 91/100\n",
      "4/4 [==============================] - 0s 55ms/step - loss: -903.8080 - accuracy: 0.7016 - val_loss: -967.0363 - val_accuracy: 0.7234\n",
      "Epoch 92/100\n",
      "4/4 [==============================] - 0s 76ms/step - loss: -934.0521 - accuracy: 0.7016 - val_loss: -1002.8408 - val_accuracy: 0.7234\n",
      "Epoch 93/100\n",
      "4/4 [==============================] - 0s 56ms/step - loss: -966.4839 - accuracy: 0.7016 - val_loss: -1039.2212 - val_accuracy: 0.7234\n",
      "Epoch 94/100\n",
      "4/4 [==============================] - 0s 51ms/step - loss: -1001.8058 - accuracy: 0.7016 - val_loss: -1075.8523 - val_accuracy: 0.7234\n",
      "Epoch 95/100\n",
      "4/4 [==============================] - 0s 78ms/step - loss: -1037.3601 - accuracy: 0.7016 - val_loss: -1112.7366 - val_accuracy: 0.7234\n",
      "Epoch 96/100\n",
      "4/4 [==============================] - 0s 54ms/step - loss: -1071.9581 - accuracy: 0.7016 - val_loss: -1150.9458 - val_accuracy: 0.7234\n",
      "Epoch 97/100\n",
      "4/4 [==============================] - 0s 78ms/step - loss: -1107.9379 - accuracy: 0.7016 - val_loss: -1190.0785 - val_accuracy: 0.7234\n",
      "Epoch 98/100\n",
      "4/4 [==============================] - 0s 42ms/step - loss: -1145.2102 - accuracy: 0.7016 - val_loss: -1230.0793 - val_accuracy: 0.7234\n",
      "Epoch 99/100\n",
      "4/4 [==============================] - 0s 84ms/step - loss: -1182.0421 - accuracy: 0.7016 - val_loss: -1271.5483 - val_accuracy: 0.7234\n",
      "Epoch 100/100\n",
      "4/4 [==============================] - 0s 126ms/step - loss: -1220.0979 - accuracy: 0.7016 - val_loss: -1313.6014 - val_accuracy: 0.7234\n"
     ]
    }
   ],
   "source": [
    "model_history=classifier.fit(x_train,y_train,batch_size=100,validation_split=0.2,epochs=100)"
   ]
  },
  {
   "cell_type": "code",
   "execution_count": 35,
   "id": "8dd866d9",
   "metadata": {},
   "outputs": [
    {
     "name": "stderr",
     "output_type": "stream",
     "text": [
      "C:\\Users\\ELCOT\\AppData\\Roaming\\Python\\Python38\\site-packages\\sklearn\\base.py:439: UserWarning: X does not have valid feature names, but DecisionTreeClassifier was fitted with feature names\n",
      "  warnings.warn(\n"
     ]
    },
    {
     "data": {
      "text/plain": [
       "array([1], dtype=int64)"
      ]
     },
     "execution_count": 35,
     "metadata": {},
     "output_type": "execute_result"
    }
   ],
   "source": [
    "model4.predict([[50,1,1.2,0.8,150,70,80,7.2,3.4,0.8]])"
   ]
  },
  {
   "cell_type": "code",
   "execution_count": 36,
   "id": "997553a2",
   "metadata": {},
   "outputs": [
    {
     "name": "stderr",
     "output_type": "stream",
     "text": [
      "C:\\Users\\ELCOT\\AppData\\Roaming\\Python\\Python38\\site-packages\\sklearn\\base.py:439: UserWarning: X does not have valid feature names, but RandomForestClassifier was fitted with feature names\n",
      "  warnings.warn(\n"
     ]
    },
    {
     "data": {
      "text/plain": [
       "array([1], dtype=int64)"
      ]
     },
     "execution_count": 36,
     "metadata": {},
     "output_type": "execute_result"
    }
   ],
   "source": [
    "model1.predict([[50,1,1.2,0.8,150,70,80,7.2,3.4,0.8]])"
   ]
  },
  {
   "cell_type": "code",
   "execution_count": 37,
   "id": "0fbbb167",
   "metadata": {},
   "outputs": [],
   "source": [
    "classifier.save(\"liver.h5\")"
   ]
  },
  {
   "cell_type": "code",
   "execution_count": 38,
   "id": "780d0e57",
   "metadata": {},
   "outputs": [
    {
     "name": "stdout",
     "output_type": "stream",
     "text": [
      "4/4 [==============================] - 0s 7ms/step\n"
     ]
    }
   ],
   "source": [
    "y_pred=classifier.predict(x_test)"
   ]
  },
  {
   "cell_type": "code",
   "execution_count": 39,
   "id": "2bf3c2ab",
   "metadata": {},
   "outputs": [
    {
     "data": {
      "text/plain": [
       "array([[1.        ],\n",
       "       [1.        ],\n",
       "       [0.99999976],\n",
       "       [1.        ],\n",
       "       [0.99999976],\n",
       "       [1.        ],\n",
       "       [1.        ],\n",
       "       [1.        ],\n",
       "       [1.        ],\n",
       "       [1.        ],\n",
       "       [1.        ],\n",
       "       [1.        ],\n",
       "       [1.        ],\n",
       "       [1.        ],\n",
       "       [1.        ],\n",
       "       [1.        ],\n",
       "       [1.        ],\n",
       "       [1.        ],\n",
       "       [1.        ],\n",
       "       [1.        ],\n",
       "       [1.        ],\n",
       "       [1.        ],\n",
       "       [1.        ],\n",
       "       [1.        ],\n",
       "       [1.        ],\n",
       "       [1.        ],\n",
       "       [1.        ],\n",
       "       [1.        ],\n",
       "       [1.        ],\n",
       "       [1.        ],\n",
       "       [1.        ],\n",
       "       [1.        ],\n",
       "       [1.        ],\n",
       "       [1.        ],\n",
       "       [1.        ],\n",
       "       [1.        ],\n",
       "       [1.        ],\n",
       "       [1.        ],\n",
       "       [1.        ],\n",
       "       [0.99999976],\n",
       "       [1.        ],\n",
       "       [1.        ],\n",
       "       [1.        ],\n",
       "       [1.        ],\n",
       "       [1.        ],\n",
       "       [1.        ],\n",
       "       [1.        ],\n",
       "       [1.        ],\n",
       "       [1.        ],\n",
       "       [0.99999976],\n",
       "       [1.        ],\n",
       "       [1.        ],\n",
       "       [1.        ],\n",
       "       [1.        ],\n",
       "       [1.        ],\n",
       "       [1.        ],\n",
       "       [1.        ],\n",
       "       [1.        ],\n",
       "       [1.        ],\n",
       "       [1.        ],\n",
       "       [1.        ],\n",
       "       [1.        ],\n",
       "       [1.        ],\n",
       "       [1.        ],\n",
       "       [1.        ],\n",
       "       [1.        ],\n",
       "       [1.        ],\n",
       "       [1.        ],\n",
       "       [1.        ],\n",
       "       [1.        ],\n",
       "       [1.        ],\n",
       "       [0.99999976],\n",
       "       [1.        ],\n",
       "       [1.        ],\n",
       "       [0.99999976],\n",
       "       [1.        ],\n",
       "       [1.        ],\n",
       "       [1.        ],\n",
       "       [1.        ],\n",
       "       [0.99999976],\n",
       "       [1.        ],\n",
       "       [1.        ],\n",
       "       [1.        ],\n",
       "       [0.99999976],\n",
       "       [1.        ],\n",
       "       [1.        ],\n",
       "       [1.        ],\n",
       "       [1.        ],\n",
       "       [1.        ],\n",
       "       [1.        ],\n",
       "       [1.        ],\n",
       "       [1.        ],\n",
       "       [1.        ],\n",
       "       [0.99999976],\n",
       "       [1.        ],\n",
       "       [1.        ],\n",
       "       [1.        ],\n",
       "       [1.        ],\n",
       "       [1.        ],\n",
       "       [1.        ],\n",
       "       [1.        ],\n",
       "       [1.        ],\n",
       "       [1.        ],\n",
       "       [1.        ],\n",
       "       [1.        ],\n",
       "       [1.        ],\n",
       "       [1.        ],\n",
       "       [1.        ],\n",
       "       [1.        ],\n",
       "       [1.        ],\n",
       "       [1.        ],\n",
       "       [1.        ],\n",
       "       [1.        ],\n",
       "       [1.        ],\n",
       "       [1.        ],\n",
       "       [1.        ],\n",
       "       [1.        ]], dtype=float32)"
      ]
     },
     "execution_count": 39,
     "metadata": {},
     "output_type": "execute_result"
    }
   ],
   "source": [
    "y_pred"
   ]
  },
  {
   "cell_type": "code",
   "execution_count": 40,
   "id": "07a15159",
   "metadata": {},
   "outputs": [
    {
     "data": {
      "text/plain": [
       "array([[ True],\n",
       "       [ True],\n",
       "       [ True],\n",
       "       [ True],\n",
       "       [ True],\n",
       "       [ True],\n",
       "       [ True],\n",
       "       [ True],\n",
       "       [ True],\n",
       "       [ True],\n",
       "       [ True],\n",
       "       [ True],\n",
       "       [ True],\n",
       "       [ True],\n",
       "       [ True],\n",
       "       [ True],\n",
       "       [ True],\n",
       "       [ True],\n",
       "       [ True],\n",
       "       [ True],\n",
       "       [ True],\n",
       "       [ True],\n",
       "       [ True],\n",
       "       [ True],\n",
       "       [ True],\n",
       "       [ True],\n",
       "       [ True],\n",
       "       [ True],\n",
       "       [ True],\n",
       "       [ True],\n",
       "       [ True],\n",
       "       [ True],\n",
       "       [ True],\n",
       "       [ True],\n",
       "       [ True],\n",
       "       [ True],\n",
       "       [ True],\n",
       "       [ True],\n",
       "       [ True],\n",
       "       [ True],\n",
       "       [ True],\n",
       "       [ True],\n",
       "       [ True],\n",
       "       [ True],\n",
       "       [ True],\n",
       "       [ True],\n",
       "       [ True],\n",
       "       [ True],\n",
       "       [ True],\n",
       "       [ True],\n",
       "       [ True],\n",
       "       [ True],\n",
       "       [ True],\n",
       "       [ True],\n",
       "       [ True],\n",
       "       [ True],\n",
       "       [ True],\n",
       "       [ True],\n",
       "       [ True],\n",
       "       [ True],\n",
       "       [ True],\n",
       "       [ True],\n",
       "       [ True],\n",
       "       [ True],\n",
       "       [ True],\n",
       "       [ True],\n",
       "       [ True],\n",
       "       [ True],\n",
       "       [ True],\n",
       "       [ True],\n",
       "       [ True],\n",
       "       [ True],\n",
       "       [ True],\n",
       "       [ True],\n",
       "       [ True],\n",
       "       [ True],\n",
       "       [ True],\n",
       "       [ True],\n",
       "       [ True],\n",
       "       [ True],\n",
       "       [ True],\n",
       "       [ True],\n",
       "       [ True],\n",
       "       [ True],\n",
       "       [ True],\n",
       "       [ True],\n",
       "       [ True],\n",
       "       [ True],\n",
       "       [ True],\n",
       "       [ True],\n",
       "       [ True],\n",
       "       [ True],\n",
       "       [ True],\n",
       "       [ True],\n",
       "       [ True],\n",
       "       [ True],\n",
       "       [ True],\n",
       "       [ True],\n",
       "       [ True],\n",
       "       [ True],\n",
       "       [ True],\n",
       "       [ True],\n",
       "       [ True],\n",
       "       [ True],\n",
       "       [ True],\n",
       "       [ True],\n",
       "       [ True],\n",
       "       [ True],\n",
       "       [ True],\n",
       "       [ True],\n",
       "       [ True],\n",
       "       [ True],\n",
       "       [ True],\n",
       "       [ True],\n",
       "       [ True],\n",
       "       [ True],\n",
       "       [ True]])"
      ]
     },
     "execution_count": 40,
     "metadata": {},
     "output_type": "execute_result"
    }
   ],
   "source": [
    "y_pred=(y_pred>0.5)\n",
    "y_pred"
   ]
  },
  {
   "cell_type": "code",
   "execution_count": 41,
   "id": "fb649238",
   "metadata": {},
   "outputs": [],
   "source": [
    "def predict_exit(sample_value):\n",
    "    sample_value=np.array(sample_value)\n",
    "    sample_value=sample_value.reshape(1,-1)\n",
    "    sample_value=scale(sample_value)\n",
    "    return classifier.predict(sample_value)"
   ]
  },
  {
   "cell_type": "code",
   "execution_count": 42,
   "id": "505ac3dd",
   "metadata": {},
   "outputs": [
    {
     "name": "stdout",
     "output_type": "stream",
     "text": [
      "1/1 [==============================] - 0s 313ms/step\n",
      "Prediction:Liver Patient\n"
     ]
    }
   ],
   "source": [
    "sample_value=[[50,1,1.2,0.8,150,70,80,7.2,3.4,0.8]]\n",
    "if predict_exit(sample_value)>0.5:\n",
    "    print('Prediction:Liver Patient')\n",
    "else:\n",
    "    print('Prediction:Healthy')"
   ]
  },
  {
   "cell_type": "code",
   "execution_count": 43,
   "id": "8be50d7a",
   "metadata": {},
   "outputs": [
    {
     "data": {
      "text/html": [
       "<div>\n",
       "<style scoped>\n",
       "    .dataframe tbody tr th:only-of-type {\n",
       "        vertical-align: middle;\n",
       "    }\n",
       "\n",
       "    .dataframe tbody tr th {\n",
       "        vertical-align: top;\n",
       "    }\n",
       "\n",
       "    .dataframe thead th {\n",
       "        text-align: right;\n",
       "    }\n",
       "</style>\n",
       "<table border=\"1\" class=\"dataframe\">\n",
       "  <thead>\n",
       "    <tr style=\"text-align: right;\">\n",
       "      <th></th>\n",
       "      <th>classification models</th>\n",
       "      <th>accuracy_score</th>\n",
       "    </tr>\n",
       "  </thead>\n",
       "  <tbody>\n",
       "    <tr>\n",
       "      <th>0</th>\n",
       "      <td>KNN Classifier</td>\n",
       "      <td>0.598291</td>\n",
       "    </tr>\n",
       "    <tr>\n",
       "      <th>1</th>\n",
       "      <td>RandomForestClassifier</td>\n",
       "      <td>0.743590</td>\n",
       "    </tr>\n",
       "    <tr>\n",
       "      <th>2</th>\n",
       "      <td>DecisionTreeClassifier</td>\n",
       "      <td>0.700855</td>\n",
       "    </tr>\n",
       "    <tr>\n",
       "      <th>3</th>\n",
       "      <td>LogisticRegression</td>\n",
       "      <td>0.692308</td>\n",
       "    </tr>\n",
       "  </tbody>\n",
       "</table>\n",
       "</div>"
      ],
      "text/plain": [
       "    classification models  accuracy_score\n",
       "0          KNN Classifier        0.598291\n",
       "1  RandomForestClassifier        0.743590\n",
       "2  DecisionTreeClassifier        0.700855\n",
       "3      LogisticRegression        0.692308"
      ]
     },
     "execution_count": 43,
     "metadata": {},
     "output_type": "execute_result"
    }
   ],
   "source": [
    "acc_smote=[['KNN Classifier',knn1],['RandomForestClassifier',rfc1],['DecisionTreeClassifier',dtc1],['LogisticRegression',logi1]]\n",
    "Liverpatient_pred=pd.DataFrame(acc_smote,columns=['classification models','accuracy_score'])\n",
    "Liverpatient_pred"
   ]
  },
  {
   "cell_type": "code",
   "execution_count": 44,
   "id": "0c66c6f4",
   "metadata": {},
   "outputs": [
    {
     "data": {
      "text/plain": [
       "<AxesSubplot:title={'center':'Classification models & accuracy scores after SMOTE'}, xlabel='classification models', ylabel='accuracy_score'>"
      ]
     },
     "execution_count": 44,
     "metadata": {},
     "output_type": "execute_result"
    },
    {
     "data": {
      "image/png": "[encoded data removed]",
      "text/plain": [
       "<Figure size 504x360 with 1 Axes>"
      ]
     },
     "metadata": {
      "needs_background": "light"
     },
     "output_type": "display_data"
    }
   ],
   "source": [
    "plt.figure(figsize=(7,5))\n",
    "plt.xticks(rotation=90)\n",
    "plt.title('Classification models & accuracy scores after SMOTE',fontsize=18)\n",
    "sns.barplot(x=\"classification models\",y=\"accuracy_score\",data=Liverpatient_pred,palette=\"Set2\")"
   ]
  },
  {
   "cell_type": "code",
   "execution_count": 45,
   "id": "0e7e138a",
   "metadata": {},
   "outputs": [
    {
     "data": {
      "text/html": [
       "<style>#sk-container-id-1 {color: black;background-color: white;}#sk-container-id-1 pre{padding: 0;}#sk-container-id-1 div.sk-toggleable {background-color: white;}#sk-container-id-1 label.sk-toggleable__label {cursor: pointer;display: block;width: 100%;margin-bottom: 0;padding: 0.3em;box-sizing: border-box;text-align: center;}#sk-container-id-1 label.sk-toggleable__label-arrow:before {content: \"▸\";float: left;margin-right: 0.25em;color: #696969;}#sk-container-id-1 label.sk-toggleable__label-arrow:hover:before {color: black;}#sk-container-id-1 div.sk-estimator:hover label.sk-toggleable__label-arrow:before {color: black;}#sk-container-id-1 div.sk-toggleable__content {max-height: 0;max-width: 0;overflow: hidden;text-align: left;background-color: #f0f8ff;}#sk-container-id-1 div.sk-toggleable__content pre {margin: 0.2em;color: black;border-radius: 0.25em;background-color: #f0f8ff;}#sk-container-id-1 input.sk-toggleable__control:checked~div.sk-toggleable__content {max-height: 200px;max-width: 100%;overflow: auto;}#sk-container-id-1 input.sk-toggleable__control:checked~label.sk-toggleable__label-arrow:before {content: \"▾\";}#sk-container-id-1 div.sk-estimator input.sk-toggleable__control:checked~label.sk-toggleable__label {background-color: #d4ebff;}#sk-container-id-1 div.sk-label input.sk-toggleable__control:checked~label.sk-toggleable__label {background-color: #d4ebff;}#sk-container-id-1 input.sk-hidden--visually {border: 0;clip: rect(1px 1px 1px 1px);clip: rect(1px, 1px, 1px, 1px);height: 1px;margin: -1px;overflow: hidden;padding: 0;position: absolute;width: 1px;}#sk-container-id-1 div.sk-estimator {font-family: monospace;background-color: #f0f8ff;border: 1px dotted black;border-radius: 0.25em;box-sizing: border-box;margin-bottom: 0.5em;}#sk-container-id-1 div.sk-estimator:hover {background-color: #d4ebff;}#sk-container-id-1 div.sk-parallel-item::after {content: \"\";width: 100%;border-bottom: 1px solid gray;flex-grow: 1;}#sk-container-id-1 div.sk-label:hover label.sk-toggleable__label {background-color: #d4ebff;}#sk-container-id-1 div.sk-serial::before {content: \"\";position: absolute;border-left: 1px solid gray;box-sizing: border-box;top: 0;bottom: 0;left: 50%;z-index: 0;}#sk-container-id-1 div.sk-serial {display: flex;flex-direction: column;align-items: center;background-color: white;padding-right: 0.2em;padding-left: 0.2em;position: relative;}#sk-container-id-1 div.sk-item {position: relative;z-index: 1;}#sk-container-id-1 div.sk-parallel {display: flex;align-items: stretch;justify-content: center;background-color: white;position: relative;}#sk-container-id-1 div.sk-item::before, #sk-container-id-1 div.sk-parallel-item::before {content: \"\";position: absolute;border-left: 1px solid gray;box-sizing: border-box;top: 0;bottom: 0;left: 50%;z-index: -1;}#sk-container-id-1 div.sk-parallel-item {display: flex;flex-direction: column;z-index: 1;position: relative;background-color: white;}#sk-container-id-1 div.sk-parallel-item:first-child::after {align-self: flex-end;width: 50%;}#sk-container-id-1 div.sk-parallel-item:last-child::after {align-self: flex-start;width: 50%;}#sk-container-id-1 div.sk-parallel-item:only-child::after {width: 0;}#sk-container-id-1 div.sk-dashed-wrapped {border: 1px dashed gray;margin: 0 0.4em 0.5em 0.4em;box-sizing: border-box;padding-bottom: 0.4em;background-color: white;}#sk-container-id-1 div.sk-label label {font-family: monospace;font-weight: bold;display: inline-block;line-height: 1.2em;}#sk-container-id-1 div.sk-label-container {text-align: center;}#sk-container-id-1 div.sk-container {/* jupyter's `normalize.less` sets `[hidden] { display: none; }` but bootstrap.min.css set `[hidden] { display: none !important; }` so we also need the `!important` here to be able to override the default hidden behavior on the sphinx rendered scikit-learn.org. See: https://github.com/scikit-learn/scikit-learn/issues/21755 */display: inline-block !important;position: relative;}#sk-container-id-1 div.sk-text-repr-fallback {display: none;}</style><div id=\"sk-container-id-1\" class=\"sk-top-container\"><div class=\"sk-text-repr-fallback\"><pre>ExtraTreesClassifier()</pre><b>In a Jupyter environment, please rerun this cell to show the HTML representation or trust the notebook. <br />On GitHub, the HTML representation is unable to render, please try loading this page with nbviewer.org.</b></div><div class=\"sk-container\" hidden><div class=\"sk-item\"><div class=\"sk-estimator sk-toggleable\"><input class=\"sk-toggleable__control sk-hidden--visually\" id=\"sk-estimator-id-1\" type=\"checkbox\" checked><label for=\"sk-estimator-id-1\" class=\"sk-toggleable__label sk-toggleable__label-arrow\">ExtraTreesClassifier</label><div class=\"sk-toggleable__content\"><pre>ExtraTreesClassifier()</pre></div></div></div></div></div>"
      ],
      "text/plain": [
       "ExtraTreesClassifier()"
      ]
     },
     "execution_count": 45,
     "metadata": {},
     "output_type": "execute_result"
    }
   ],
   "source": [
    "from sklearn.ensemble import ExtraTreesClassifier\n",
    "model=ExtraTreesClassifier()\n",
    "model.fit(x,y)"
   ]
  },
  {
   "cell_type": "code",
   "execution_count": 46,
   "id": "01ead20f",
   "metadata": {},
   "outputs": [
    {
     "data": {
      "text/plain": [
       "array([0.10560915, 0.02985332, 0.1103418 , 0.10634523, 0.11936243,\n",
       "       0.11268975, 0.11117803, 0.09780996, 0.10114212, 0.1056682 ])"
      ]
     },
     "execution_count": 46,
     "metadata": {},
     "output_type": "execute_result"
    }
   ],
   "source": [
    "model.feature_importances_"
   ]
  },
  {
   "cell_type": "code",
   "execution_count": 47,
   "id": "9c06f8c6",
   "metadata": {},
   "outputs": [
    {
     "data": {
      "text/html": [
       "<div>\n",
       "<style scoped>\n",
       "    .dataframe tbody tr th:only-of-type {\n",
       "        vertical-align: middle;\n",
       "    }\n",
       "\n",
       "    .dataframe tbody tr th {\n",
       "        vertical-align: top;\n",
       "    }\n",
       "\n",
       "    .dataframe thead th {\n",
       "        text-align: right;\n",
       "    }\n",
       "</style>\n",
       "<table border=\"1\" class=\"dataframe\">\n",
       "  <thead>\n",
       "    <tr style=\"text-align: right;\">\n",
       "      <th></th>\n",
       "      <th>0</th>\n",
       "    </tr>\n",
       "  </thead>\n",
       "  <tbody>\n",
       "    <tr>\n",
       "      <th>Alkaline_Phosphotase</th>\n",
       "      <td>0.119362</td>\n",
       "    </tr>\n",
       "    <tr>\n",
       "      <th>Alamine_Aminotransferase</th>\n",
       "      <td>0.112690</td>\n",
       "    </tr>\n",
       "    <tr>\n",
       "      <th>Aspartate_Aminotransferase</th>\n",
       "      <td>0.111178</td>\n",
       "    </tr>\n",
       "    <tr>\n",
       "      <th>Total_Bilirubin</th>\n",
       "      <td>0.110342</td>\n",
       "    </tr>\n",
       "    <tr>\n",
       "      <th>Direct_Bilirubin</th>\n",
       "      <td>0.106345</td>\n",
       "    </tr>\n",
       "    <tr>\n",
       "      <th>Albumin_and_Globulin_Ratio</th>\n",
       "      <td>0.105668</td>\n",
       "    </tr>\n",
       "    <tr>\n",
       "      <th>Age</th>\n",
       "      <td>0.105609</td>\n",
       "    </tr>\n",
       "    <tr>\n",
       "      <th>Albumin</th>\n",
       "      <td>0.101142</td>\n",
       "    </tr>\n",
       "    <tr>\n",
       "      <th>Total_Protiens</th>\n",
       "      <td>0.097810</td>\n",
       "    </tr>\n",
       "    <tr>\n",
       "      <th>Gender</th>\n",
       "      <td>0.029853</td>\n",
       "    </tr>\n",
       "  </tbody>\n",
       "</table>\n",
       "</div>"
      ],
      "text/plain": [
       "                                   0\n",
       "Alkaline_Phosphotase        0.119362\n",
       "Alamine_Aminotransferase    0.112690\n",
       "Aspartate_Aminotransferase  0.111178\n",
       "Total_Bilirubin             0.110342\n",
       "Direct_Bilirubin            0.106345\n",
       "Albumin_and_Globulin_Ratio  0.105668\n",
       "Age                         0.105609\n",
       "Albumin                     0.101142\n",
       "Total_Protiens              0.097810\n",
       "Gender                      0.029853"
      ]
     },
     "execution_count": 47,
     "metadata": {},
     "output_type": "execute_result"
    }
   ],
   "source": [
    "dd=pd.DataFrame(model.feature_importances_,index=x.columns).sort_values(0,ascending=False)\n",
    "dd"
   ]
  },
  {
   "cell_type": "code",
   "execution_count": 48,
   "id": "376290a2",
   "metadata": {},
   "outputs": [
    {
     "data": {
      "text/plain": [
       "Text(0.5, 1.0, 'FEATURE IMPORTANCE')"
      ]
     },
     "execution_count": 48,
     "metadata": {},
     "output_type": "execute_result"
    },
    {
     "data": {
      "image/png": "[encoded data removed]",
      "text/plain": [
       "<Figure size 504x432 with 1 Axes>"
      ]
     },
     "metadata": {
      "needs_background": "light"
     },
     "output_type": "display_data"
    }
   ],
   "source": [
    "dd.plot(kind='barh',figsize=(7,6))\n",
    "plt.title(\"FEATURE IMPORTANCE\",fontsize=14)"
   ]
  },
  {
   "cell_type": "code",
   "execution_count": 49,
   "id": "a64287ee",
   "metadata": {},
   "outputs": [
    {
     "data": {
      "text/plain": [
       "['ETC.pkl']"
      ]
     },
     "execution_count": 49,
     "metadata": {},
     "output_type": "execute_result"
    }
   ],
   "source": [
    "import joblib\n",
    "joblib.dump(model1,'ETC.pkl')"
   ]
  },
  {
   "cell_type": "code",
   "execution_count": null,
   "id": "0893af5e",
   "metadata": {},
   "outputs": [],
   "source": [
    "from flask import Flask,render_template,request\n",
    "import numpy as np\n",
    "import pickle"
   ]
  },
  {
   "cell_type": "code",
   "execution_count": null,
   "id": "761cf000",
   "metadata": {},
   "outputs": [],
   "source": [
    "app=Flask(__name__)\n",
    "@app.route('/')\n",
    "def home():\n",
    "    return render_template('home.html')\n",
    "@app.route('/predict')\n",
    "def index():\n",
    "    return render_template('predict.html')"
   ]
  },
  {
   "cell_type": "code",
   "execution_count": null,
   "id": "c823afc1",
   "metadata": {},
   "outputs": [],
   "source": [
    "@app.route('/data_predict',methods=['POST'])\n",
    "def predict():\n",
    "    Age=request.form['Age']\n",
    "    Gender=request.form['Gender']\n",
    "    tb=request.form['tb']\n",
    "    db=request.form['db']\n",
    "    ap=request.form['ap']\n",
    "    aa1=request.form['aa1']\n",
    "    aa2=request.form['aa2']\n",
    "    tp=request.form['tp']\n",
    "    a=request.form['a']\n",
    "    agr=request.form['agr']\n",
    "    data=[[float(Age),float(Gender),float(tb),float(db),float(ap),float(aa1),float(aa2),float(tp),float(a),float(agr)]]\n",
    "    model=pickle.load(open('ETC.pkl','rb'))\n",
    "    prediction=model.predict(data)[0]\n",
    "    if(prediction == 1):\n",
    "        return render_template('noChance.html',prediction='You have a liver disease problem,You must and should consult a doctor.Take care')\n",
    "    else:\n",
    "        return render_template('chance.html',prediction='You dont have a liver disease problems')\n",
    "if __name__=='__main__':\n",
    "        app.run()\n"
   ]
  },
  {
   "cell_type": "code",
   "execution_count": null,
   "id": "c356de66",
   "metadata": {},
   "outputs": [],
   "source": []
  },
  {
   "cell_type": "code",
   "execution_count": null,
   "id": "cff0b91c",
   "metadata": {},
   "outputs": [],
   "source": []
  },
  {
   "cell_type": "code",
   "execution_count": null,
   "id": "17617c33",
   "metadata": {},
   "outputs": [],
   "source": []
  },
  {
   "cell_type": "code",
   "execution_count": null,
   "id": "3b46b0a9",
   "metadata": {},
   "outputs": [],
   "source": []
  },
  {
   "cell_type": "code",
   "execution_count": null,
   "id": "f4e7ba8d",
   "metadata": {},
   "outputs": [],
   "source": []
  },
  {
   "cell_type": "code",
   "execution_count": null,
   "id": "e91f8dc0",
   "metadata": {},
   "outputs": [],
   "source": []
  },
  {
   "cell_type": "code",
   "execution_count": null,
   "id": "62cab68c",
   "metadata": {},
   "outputs": [],
   "source": []
  },
  {
   "cell_type": "code",
   "execution_count": null,
   "id": "362f728a",
   "metadata": {},
   "outputs": [],
   "source": []
  },
  {
   "cell_type": "code",
   "execution_count": null,
   "id": "b4965fff",
   "metadata": {},
   "outputs": [],
   "source": []
  },
  {
   "cell_type": "code",
   "execution_count": null,
   "id": "6d0354d6",
   "metadata": {},
   "outputs": [],
   "source": []
  }
 ],
 "metadata": {
  "kernelspec": {
   "display_name": "Python 3",
   "language": "python",
   "name": "python3"
  },
  "language_info": {
   "codemirror_mode": {
    "name": "ipython",
    "version": 3
   },
   "file_extension": ".py",
   "mimetype": "text/x-python",
   "name": "python",
   "nbconvert_exporter": "python",
   "pygments_lexer": "ipython3",
   "version": "3.8.8"
  }
 },
 "nbformat": 4,
 "nbformat_minor": 5
}
